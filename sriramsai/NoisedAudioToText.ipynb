{
 "cells": [
  {
   "cell_type": "code",
   "execution_count": null,
   "id": "699a9d74-a6f1-4df8-afd6-9b4d398b73b7",
   "metadata": {},
   "outputs": [],
   "source": [
    "pip install transformers\n",
    "from IPython.display import Audio, display\n",
    "\n",
    "display(Audio('file_name.mp3', autoplay=True))\n",
    "from transformers import pipeline\n",
    "whisper = pipeline('automatic-speech-recognition', model = 'openai/whisper-medium')\n",
    "text = whisper('file_name.mp3')\n",
    "text"
   ]
  }
 ],
 "metadata": {
  "kernelspec": {
   "display_name": "Python 3 (ipykernel)",
   "language": "python",
   "name": "python3"
  },
  "language_info": {
   "codemirror_mode": {
    "name": "ipython",
    "version": 3
   },
   "file_extension": ".py",
   "mimetype": "text/x-python",
   "name": "python",
   "nbconvert_exporter": "python",
   "pygments_lexer": "ipython3",
   "version": "3.11.7"
  }
 },
 "nbformat": 4,
 "nbformat_minor": 5
}
